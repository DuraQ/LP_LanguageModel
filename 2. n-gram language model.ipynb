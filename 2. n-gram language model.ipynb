{
 "cells": [
  {
   "cell_type": "code",
   "execution_count": 1,
   "metadata": {},
   "outputs": [],
   "source": [
    "import pandas as pd\n",
    "from nltk.util import ngrams\n",
    "from nltk import trigrams\n",
    "from ast import literal_eval\n",
    "from collections import Counter, defaultdict"
   ]
  },
  {
   "cell_type": "code",
   "execution_count": 2,
   "metadata": {},
   "outputs": [],
   "source": [
    "data = pd.read_csv(\"C:/Manning/DL/processedText.csv\")"
   ]
  },
  {
   "cell_type": "code",
   "execution_count": 3,
   "metadata": {},
   "outputs": [],
   "source": [
    "## Use this to convert list stored as string back to original list\n",
    "data.loc[:,'token'] = data.loc[:,'token'].apply(lambda x: literal_eval(x))"
   ]
  },
  {
   "cell_type": "code",
   "execution_count": 4,
   "metadata": {},
   "outputs": [],
   "source": [
    "train = data[data['category'] == 'title']\n",
    "test = data[data['category'] != 'title']"
   ]
  },
  {
   "cell_type": "code",
   "execution_count": 6,
   "metadata": {},
   "outputs": [],
   "source": [
    "# Create a placeholder for model\n",
    "model = defaultdict(lambda: defaultdict(lambda: 0))\n",
    "\n",
    "def trigram_c(text):\n",
    "    for w1, w2, w3 in trigrams(text, pad_right=True, pad_left=True, left_pad_symbol='<s>', right_pad_symbol='</s>' ):\n",
    "        model[(w1, w2)][w3] += 1\n",
    "\n",
    "# update the model based on the tokens\n",
    "data['token'].apply(trigram_c)\n",
    "\n",
    "# Transform the counts to probabilities\n",
    "for w1_w2 in model:\n",
    "    total_count = float(sum(model[w1_w2].values()))\n",
    "    for w3 in model[w1_w2]:\n",
    "        model[w1_w2][w3] /= total_count"
   ]
  },
  {
   "cell_type": "code",
   "execution_count": 19,
   "metadata": {
    "scrolled": true
   },
   "outputs": [
    {
     "data": {
      "text/plain": [
       "{'experts': 0.15789473684210525,\n",
       " 'same': 0.05263157894736842,\n",
       " 'the': 0.3157894736842105,\n",
       " 'non': 0.05263157894736842,\n",
       " 'data': 0.10526315789473684,\n",
       " 'samples': 0.05263157894736842,\n",
       " 'experimental': 0.05263157894736842,\n",
       " 'my': 0.05263157894736842,\n",
       " 'whom': 0.05263157894736842,\n",
       " 'multiple': 0.05263157894736842,\n",
       " 'b': 0.05263157894736842}"
      ]
     },
     "execution_count": 19,
     "metadata": {},
     "output_type": "execute_result"
    }
   ],
   "source": [
    "dict(model[('priors','from')])"
   ]
  },
  {
   "cell_type": "code",
   "execution_count": 200,
   "metadata": {},
   "outputs": [],
   "source": [
    "def generate_text(first, second):\n",
    "\n",
    "    import random\n",
    "\n",
    "    # starting words\n",
    "    text = [first, second]\n",
    "    sentence_finished = False\n",
    "\n",
    "    while not sentence_finished:\n",
    "      # select a random probability threshold  \n",
    "      r = random.random()\n",
    "      accumulator = 0.1\n",
    "\n",
    "      for word in model[tuple(text[-2:])].keys():\n",
    "          accumulator += model[tuple(text[-2:])][word]\n",
    "          # select words that are above the probability threshold\n",
    "          if accumulator >= r:\n",
    "              text.append(word)\n",
    "              if text[-1:] == ['</s>']:\n",
    "                  sentence_finished = True\n",
    "              break\n",
    "\n",
    "    print(str(' '.join([t for t in text if t])))"
   ]
  },
  {
   "cell_type": "code",
   "execution_count": 202,
   "metadata": {},
   "outputs": [
    {
     "name": "stdout",
     "output_type": "stream",
     "text": [
      "how do i interpret the images are not identifiable , you may be better if you add some more technical terms what causes the latter , we have , from where you try to clarify in what you re getting there . what does discriminative mean here ? </s>\n"
     ]
    }
   ],
   "source": [
    "generate_text('how','do')\n"
   ]
  },
  {
   "cell_type": "code",
   "execution_count": 174,
   "metadata": {},
   "outputs": [],
   "source": [
    "def sentence_prob(sentence):\n",
    "    prob = 1\n",
    "    for w1, w2, w3 in ngrams(sentence.split(), 3):\n",
    "        prob *= model[(w1, w2)][w3]\n",
    "        \n",
    "    print(prob)\n",
    "    "
   ]
  },
  {
   "cell_type": "code",
   "execution_count": 204,
   "metadata": {},
   "outputs": [
    {
     "name": "stdout",
     "output_type": "stream",
     "text": [
      "0.0005712109672505713\n"
     ]
    }
   ],
   "source": [
    "sentence_prob('that is great')"
   ]
  },
  {
   "cell_type": "code",
   "execution_count": 195,
   "metadata": {},
   "outputs": [
    {
     "name": "stdout",
     "output_type": "stream",
     "text": [
      "3.8131226710161687e-06\n"
     ]
    }
   ],
   "source": [
    "sentence_prob(' '.join([t for t in train['token'][10]]))\n"
   ]
  },
  {
   "cell_type": "code",
   "execution_count": 196,
   "metadata": {},
   "outputs": [
    {
     "data": {
      "text/plain": [
       "['bayesian', 'and', 'frequentist', 'reasoning', 'in', 'plain', 'english']"
      ]
     },
     "execution_count": 196,
     "metadata": {},
     "output_type": "execute_result"
    }
   ],
   "source": [
    "train['token'][10]"
   ]
  },
  {
   "cell_type": "code",
   "execution_count": null,
   "metadata": {},
   "outputs": [],
   "source": [
    "P1 <- 1/4\n",
    "P2 <- 1/4\n",
    "P3 <- 1/4\n",
    "P4 <- 1/120000\n",
    "\n",
    "SP <- P1*P2*P3*P4\n",
    "Result <- SP**(-1/4)"
   ]
  },
  {
   "cell_type": "code",
   "execution_count": null,
   "metadata": {},
   "outputs": [],
   "source": []
  },
  {
   "cell_type": "code",
   "execution_count": null,
   "metadata": {},
   "outputs": [],
   "source": []
  },
  {
   "cell_type": "code",
   "execution_count": null,
   "metadata": {},
   "outputs": [],
   "source": []
  },
  {
   "cell_type": "code",
   "execution_count": null,
   "metadata": {},
   "outputs": [],
   "source": []
  }
 ],
 "metadata": {
  "kernelspec": {
   "display_name": "Python 3",
   "language": "python",
   "name": "python3"
  },
  "language_info": {
   "codemirror_mode": {
    "name": "ipython",
    "version": 3
   },
   "file_extension": ".py",
   "mimetype": "text/x-python",
   "name": "python",
   "nbconvert_exporter": "python",
   "pygments_lexer": "ipython3",
   "version": "3.7.3"
  }
 },
 "nbformat": 4,
 "nbformat_minor": 2
}
